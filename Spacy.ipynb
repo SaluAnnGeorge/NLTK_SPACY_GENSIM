{
  "nbformat": 4,
  "nbformat_minor": 0,
  "metadata": {
    "colab": {
      "provenance": []
    },
    "kernelspec": {
      "name": "python3",
      "display_name": "Python 3"
    },
    "language_info": {
      "name": "python"
    }
  },
  "cells": [
    {
      "cell_type": "code",
      "execution_count": 1,
      "metadata": {
        "colab": {
          "base_uri": "https://localhost:8080/"
        },
        "id": "sukxl6IcYnGc",
        "outputId": "77dc529d-fca5-43c1-df62-9049de00c889"
      },
      "outputs": [
        {
          "output_type": "stream",
          "name": "stdout",
          "text": [
            "Enter the text to be processed: Ram is a good boy.\n",
            "\n",
            "Tokens: ['Ram', 'is', 'a', 'good', 'boy', '.']\n",
            "\n",
            "Lemmatized Tokens: ['Ram', 'be', 'a', 'good', 'boy', '.']\n",
            "\n",
            "Stemmed Tokens: ['ram', 'is', 'a', 'good', 'boy', '.']\n",
            "\n",
            "Filtered Tokens (Stop Words Removed): ['Ram', 'good', 'boy', '.']\n"
          ]
        }
      ],
      "source": [
        "import spacy\n",
        "from nltk.stem import PorterStemmer\n",
        "\n",
        "# Load the SpaCy English model\n",
        "nlp = spacy.load('en_core_web_sm')\n",
        "\n",
        "# Initialize NLTK's PorterStemmer\n",
        "stemmer = PorterStemmer()\n",
        "\n",
        "# Take input from the user\n",
        "text = input(\"Enter the text to be processed: \")\n",
        "\n",
        "# Tokenization using SpaCy\n",
        "doc = nlp(text)\n",
        "tokens = [token.text for token in doc]\n",
        "print(f\"\\nTokens: {tokens}\")\n",
        "\n",
        "# Lemmatization using SpaCy\n",
        "lemmatized_tokens = [token.lemma_ for token in doc]\n",
        "print(f\"\\nLemmatized Tokens: {lemmatized_tokens}\")\n",
        "\n",
        "# Stemming using NLTK's PorterStemmer\n",
        "stemmed_tokens = [stemmer.stem(token) for token in tokens]\n",
        "print(f\"\\nStemmed Tokens: {stemmed_tokens}\")\n",
        "\n",
        "# Stop word removal (using SpaCy's default stop words list)\n",
        "filtered_tokens = [token.text for token in doc if not token.is_stop]\n",
        "print(f\"\\nFiltered Tokens (Stop Words Removed): {filtered_tokens}\")"
      ]
    }
  ]
}